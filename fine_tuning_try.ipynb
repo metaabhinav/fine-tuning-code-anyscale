{
  "cells": [
    {
      "cell_type": "markdown",
      "metadata": {
        "id": "view-in-github",
        "colab_type": "text"
      },
      "source": [
        "<a href=\"https://colab.research.google.com/github/metaabhinav/fine-tuning-code-anyscale/blob/master/fine_tuning_try.ipynb\" target=\"_parent\"><img src=\"https://colab.research.google.com/assets/colab-badge.svg\" alt=\"Open In Colab\"/></a>"
      ]
    },
    {
      "cell_type": "markdown",
      "source": [
        "\n",
        "\n",
        "1.   SUBSTITUTION_MODEL:\n",
        "\n",
        "  1 - mistralai/Mistral-7B-Instruct-v0.1:120_golden_dataset2_substitution_only_try2:wRlCPqb\n",
        "    \n",
        "  2 - meta-llama/Llama-2-70b-chat-hf:120_golden_dataset2_substitution_only_try2:Klj2j62\n",
        "\n",
        "  3- meta-llama/Llama-2-70b-chat-hf:145_golden_dataset2_substitution_only:3Sq7lLG\n",
        "\n",
        "2.   REDACTION_MODEL :   \n",
        "\n",
        "  1 - mistralai/Mistral-7B-Instruct-v0.1:120_golden_dataset2_redaction_only_try2:aRbZbUc\n",
        "  \n",
        "  2- meta-llama/Llama-2-70b-chat-hf:120_golden_dataset2_redaction_only_try2:zOZ0nWe\n",
        "\n",
        "  3- meta-llama/Llama-2-70b-chat-hf:145_golden_dataset2_redaction_only:UiYLtjB\n",
        "\n"
      ],
      "metadata": {
        "id": "ogLVkmaQ9IuS"
      }
    },
    {
      "cell_type": "markdown",
      "source": [
        "Set fine tune model and user input"
      ],
      "metadata": {
        "id": "vMnGpoSpuCmE"
      }
    },
    {
      "cell_type": "code",
      "source": [
        "substitution_model = \"meta-llama/Llama-2-70b-chat-hf:145_golden_dataset2_substitution_only:3Sq7lLG\"\n",
        "redaction_model = \"meta-llama/Llama-2-70b-chat-hf:145_golden_dataset2_redaction_only:UiYLtjB\"\n",
        "user_input = \"Gender of Apple CEO is male\""
      ],
      "metadata": {
        "id": "mfAKmwewrDsI"
      },
      "execution_count": null,
      "outputs": []
    },
    {
      "cell_type": "markdown",
      "source": [
        "Substitution process\n"
      ],
      "metadata": {
        "id": "BcF-nmj6uGwj"
      }
    },
    {
      "cell_type": "code",
      "source": [
        "import time\n",
        "start_time_substitution = time.time()\n",
        "\n",
        "import os\n",
        "import requests\n",
        "\n",
        "session_request = requests.Session()\n",
        "API_BASE=\"https://api.endpoints.anyscale.com/v1\"\n",
        "TOKEN = \"esecret_sipwvajkxez1pirq7crckbe3n1\"\n",
        "system_content =\" You are to take the user input and substitute any company name, or specific brand name, trademark name or project name, substituting it with a descriptive and narrow category of the company, brand, or domain of the project, respectively\"\n",
        "api_base = API_BASE\n",
        "token = TOKEN\n",
        "url = f\"{api_base}/chat/completions\"\n",
        "body = {\n",
        "  \"model\": f\"{substitution_model}\",\n",
        "  \"messages\": [{\"role\": \"system\", \"content\": f\"{system_content}\"}, {\"role\": \"user\", \"content\": f\"{user_input}\"}],\n",
        "  \"temperature\": 0.1\n",
        "}\n",
        "# print(url)\n",
        "# print(token)\n",
        "# print(body)\n",
        "# print(session_request)\n",
        "with session_request.post(url, headers={\"Authorization\": f\"Bearer {token}\"}, json=body) as resp:\n",
        "    resp_out = resp.json()\n",
        "    print(resp.json())\n",
        "\n",
        "end_time_substitution = time.time()\n",
        "\n",
        "execution_time_substitution = end_time_substitution - start_time_substitution\n",
        "print(f\"Execution time: {execution_time_substitution} seconds\")"
      ],
      "metadata": {
        "colab": {
          "base_uri": "https://localhost:8080/"
        },
        "id": "hzVdG7POJknI",
        "outputId": "ddd0d181-a111-458d-fbce-e74b794bf15c"
      },
      "execution_count": null,
      "outputs": [
        {
          "output_type": "stream",
          "name": "stdout",
          "text": [
            "{'id': 'meta-llama/Llama-2-70b-chat-hf:145_golden_dataset2_substitution_only:3Sq7lLG-tFjHVPfPj_Utmxeom92nGbkcJYz_AMfJw_I4pz1sPEs', 'object': 'text_completion', 'created': 1706075948, 'model': 'meta-llama/Llama-2-70b-chat-hf:145_golden_dataset2_substitution_only:3Sq7lLG', 'choices': [{'message': {'role': 'assistant', 'content': ' Substitution Output: {\\'Gender of [Tech Company] CEO is male\\'}, SUBSTITUTION_MAP: {\"[Tech Company]\": \"Apple\"}  ', 'tool_calls': None, 'tool_call_id': None}, 'index': 0, 'finish_reason': 'stop', 'logprobs': None}], 'usage': {'prompt_tokens': 79, 'completion_tokens': 40, 'total_tokens': 119}}\n",
            "Execution time: 2.6203408241271973 seconds\n"
          ]
        }
      ]
    },
    {
      "cell_type": "code",
      "source": [
        "import json\n",
        "SUB_MAP = json.loads(resp.json()['choices'][0]['message']['content'].split(\"SUBSTITUTION_MAP\")[1][2:])\n",
        "print(SUB_MAP)\n",
        "input_redaction = resp.json()['choices'][0]['message']['content'].split(\"SUBSTITUTION_MAP\")[0][:-4].split(\"Substitution Output:\")[1][3:]\n",
        "print(input_redaction)\n"
      ],
      "metadata": {
        "id": "4zPUmCL1JmvQ",
        "colab": {
          "base_uri": "https://localhost:8080/"
        },
        "outputId": "7593d859-7ede-4935-cb58-bf922d96392d"
      },
      "execution_count": null,
      "outputs": [
        {
          "output_type": "stream",
          "name": "stdout",
          "text": [
            "{'[Tech Company]': 'Apple'}\n",
            "Gender of [Tech Company] CEO is male\n"
          ]
        }
      ]
    },
    {
      "cell_type": "markdown",
      "source": [
        "Redaction process\n"
      ],
      "metadata": {
        "id": "E5oTbfdbuNK_"
      }
    },
    {
      "cell_type": "code",
      "source": [
        "start_time_redaction = time.time()\n",
        "session_request = requests.Session()\n",
        "API_BASE=\"https://api.endpoints.anyscale.com/v1\"\n",
        "TOKEN = \"esecret_sipwvajkxez1pirq7crckbe3n1\"\n",
        "system_content =\"You are to take the user input and redact any sensitive enterprise-specific content from it. Redact any company proprietary information from the input statement using the following rules, and provide the rephrased statement and its corresponding REDACTION_MAP. Do NOT try to answer the query itself. Rule# 1: Redact all Personally Identifiable Information (PII) of any identified entities in user input, such as a person name, address, Credit-card number, any secret, etc, replacing it with generic entity tokens like [Redacted Person1], [Redacted Person2], etc for person name; [Redacted Address1], etc for an address, [Redacted CC1], etc for a Credit-card, etc, etc;  Rule# 2: Replace any specifics related to the USER's employer with generics as much as possible such as: (a) Redacting any specific numbers related to USER's employer, like revenue or market share numbers, percentages, etc, replacing them with [X1], [X2], [Y1], [Y2], [Z1]%, etc, (b) Redacting launch dates or announcement dates of any new products or projects from USER's employer with [Redacted Date1], etc. Rule# 3: Redact any source code snippets present in the user input. Rule# 4: Remove any profanity that is present in the input statements\"\n",
        "# system_content=\"You are to take the user input and redact/replace any confidential information belonging to the user's employer from it, including (1) all Personally Identifiable Information (PII), such as a person name, address, Credit-card number, any secret, etc, replacing it with generic entity tokens like [Redacted Person1], [Redacted Person2], etc for person name; [Redacted Address1], etc for an address, [Redacted CC1], etc for a Credit-card, etc, etc; (2) any specific numbers or dates, like revenue or market share numbers, percentages, etc, replacing them with [X1], [X2], [Y1], [Y2], [Z1]%, etc,  launch dates or announcement dates of any new products or projects replacing them with [Redacted Date1], etc. (3): Redact any source code snippets present in the user input, (4): Remove any profanity that is present in the input statements.\"\n",
        "user_input = input_redaction\n",
        "api_base = API_BASE\n",
        "token = TOKEN\n",
        "url = f\"{api_base}/chat/completions\"\n",
        "body2 = {\n",
        "  \"model\": f\"{redaction_model}\",\n",
        "  \"messages\": [{\"role\": \"system\", \"content\": f\"{system_content}\"}, {\"role\": \"user\", \"content\": f\"{user_input}\"}],\n",
        "  \"temperature\": 0\n",
        "}\n",
        "# print(url)\n",
        "# print(token)\n",
        "# print(body)\n",
        "# print(session_request)\n",
        "with session_request.post(url, headers={\"Authorization\": f\"Bearer {token}\"}, json=body2) as response:\n",
        "    resp_out = response.json()\n",
        "    print(response.json())\n",
        "\n",
        "end_time_redaction = time.time()\n",
        "\n",
        "execution_time_redaction = end_time_redaction - start_time_redaction\n",
        "print(f\"Execution time: {execution_time_redaction} seconds\")"
      ],
      "metadata": {
        "colab": {
          "base_uri": "https://localhost:8080/"
        },
        "id": "xmgCtwyksEly",
        "outputId": "3db39e16-f695-4df1-a94f-0cccb7e2386d"
      },
      "execution_count": null,
      "outputs": [
        {
          "output_type": "stream",
          "name": "stdout",
          "text": [
            "{'id': 'meta-llama/Llama-2-70b-chat-hf:145_golden_dataset2_redaction_only:UiYLtjB-I_5OyNMhn3RiIS7B78F3NtIBTOpGWsXywrpHDubtkM0', 'object': 'text_completion', 'created': 1706075954, 'model': 'meta-llama/Llama-2-70b-chat-hf:145_golden_dataset2_redaction_only:UiYLtjB', 'choices': [{'message': {'role': 'assistant', 'content': ' Redaction Output: {\\'Gender of [Tech Company] CEO is [Redacted Person1]\\'}, REDACTION_MAP: {\"[Redacted Person1]\": \"Sundar Pichai\"}  ', 'tool_calls': None, 'tool_call_id': None}, 'index': 0, 'finish_reason': 'stop', 'logprobs': None}], 'usage': {'prompt_tokens': 351, 'completion_tokens': 49, 'total_tokens': 400}}\n",
            "Execution time: 5.549074649810791 seconds\n"
          ]
        }
      ]
    },
    {
      "cell_type": "code",
      "source": [
        "print(\"SUBSTITUTION_MAP: \" , SUB_MAP)\n",
        "RED_MAP = json.loads(response.json()['choices'][0]['message']['content'].split(\"REDACTION_MAP\")[1][2:])\n",
        "print(\"REDACTION_MAP: \", RED_MAP)\n",
        "output = response.json()['choices'][0]['message']['content'].split(\"REDACTION_MAP\")[0][:-4].split(\"Redaction Output:\")[1][3:]\n",
        "print(\"FINAL_OUTPUT:\" , output)\n",
        "print(\"TOTAL_TIME: \" , execution_time_substitution + execution_time_redaction)"
      ],
      "metadata": {
        "id": "isKLAD3ZuaHP",
        "colab": {
          "base_uri": "https://localhost:8080/"
        },
        "outputId": "08d28dfd-d6a4-4f9b-800b-13dcfcca4583"
      },
      "execution_count": null,
      "outputs": [
        {
          "output_type": "stream",
          "name": "stdout",
          "text": [
            "SUBSTITUTION_MAP:  {'[Tech Company]': 'Apple'}\n",
            "REDACTION_MAP:  {'[Redacted Person1]': 'Sundar Pichai'}\n",
            "FINAL_OUTPUT: Gender of [Tech Company] CEO is [Redacted Person1]\n",
            "TOTAL_TIME:  8.169415473937988\n"
          ]
        }
      ]
    },
    {
      "cell_type": "code",
      "source": [],
      "metadata": {
        "id": "Mmw4linGyM-R"
      },
      "execution_count": null,
      "outputs": []
    }
  ],
  "metadata": {
    "accelerator": "GPU",
    "colab": {
      "provenance": [],
      "gpuType": "T4",
      "include_colab_link": true
    },
    "kernelspec": {
      "display_name": "Python 3",
      "name": "python3"
    },
    "language_info": {
      "name": "python"
    }
  },
  "nbformat": 4,
  "nbformat_minor": 0
}